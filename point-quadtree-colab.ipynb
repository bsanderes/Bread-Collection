{
  "cells": [
    {
      "cell_type": "markdown",
      "metadata": {
        "id": "0tdcv4rKs-vw"
      },
      "source": [
        "<a href=\"https://colab.research.google.com/github/gisalgs/notebooks/blob/main/point-quadtree-colab.ipynb\">\n",
        "  <img src=\"https://colab.research.google.com/assets/colab-badge.svg\" alt=\"Open In Colab\"/>\n",
        "</a>\n",
        "\n",
        "# Point Quadtrees\n",
        "\n",
        "In k-D trees, we use the two coordinates alternatively. Now we see how to use the two coordinates simultaneously. In this way, we define a quadtree, where we divide the space into four quadrants (hence **quadt**ree) at each point going down the tree. we continue to partition the space into quads until each quad contains no more than 1 point. The points are inserted into the tree using a sequence defined by the user. For example, in the following example, we insert the points using the alphabetic order.\n",
        "\n",
        "<img src=\"https://github.com/gisalgs/notebooks/blob/main/figures/quadtree1.png?raw=1\" width=450/>\n",
        "\n",
        "There are different kinds of quadtrees. The one we described in the above figure is called **point quadtree**: we index points using the coordinates of the points. Another type of quadtree for points is called **point region quadtree** where we partition the region as in region quadtrees. We can also use quadtree to index raster data, and data for lines and rectangles. [Hanan Samet](http://www.cs.umd.edu/~hjs/) and his colleagues at the University of Maryland used to maintain a [web site](http://donar.umiacs.umd.edu/quadtree/) that has an excellent collection of demos for quadtrees and k-D tree, but the site is no longer available after many years.\n",
        "\n",
        "## Programming point quadtrees\n",
        "\n",
        "We develop a specific class to store the node of a point quadtree. This node will have four child nodes, each named using the direction of the quadrant:\n",
        "\n",
        "```python\n",
        "class PQuadTreeNode():\n",
        "    def __init__(self,point,nw=None,ne=None,se=None,sw=None):\n",
        "        self.point = point\n",
        "        self.nw = nw\n",
        "        self.ne = ne\n",
        "        self.se = se\n",
        "        self.sw = sw\n",
        "    def __repr__(self):\n",
        "        return str(self.point)\n",
        "    def is_leaf(self):\n",
        "        return self.nw==None and self.ne==None and self.se==None and self.sw==None\n",
        "```\n",
        "\n",
        "\n",
        "We can also develop a similar strategy to go down the tree to search for information as we did for the generic binary tree and for k-D tree. Here we use a variable `q` for the node, `p` is the point to be found, and `is_find_only` specifies the purpose of search (again, find if point `p` is in the tree or which node should be the parent node if `p` is inserted into the tree). When `is_find_only` is `False`, we return the node that is the parent node of point `p` if it is to be inserted into the tree.\n",
        "\n",
        "```python\n",
        "def search_pqtree(q, p, is_find_only=True):\n",
        "    if q is None:\n",
        "        return\n",
        "    if q.point == p:\n",
        "        if is_find_only:\n",
        "            return q\n",
        "        else:\n",
        "            return\n",
        "    dx,dy = 0,0\n",
        "    if p.x > q.point.x:\n",
        "        dx = 1\n",
        "    if p.y > q.point.y:\n",
        "        dy = 1\n",
        "    qnum = dx + dy*2\n",
        "    child = [q.sw, q.se, q.nw, q.ne][qnum]\n",
        "    if child is None and not is_find_only:\n",
        "        return q\n",
        "    return search_pqtree(child, p, is_find_only)\n",
        "```\n",
        "\n",
        "In the above function, we have a specific way of calculating the value of `qnum` so that we can get to the correct branch of node `q` by the line of `child = [q.sw, q.se, q.nw, q.ne][qnum]`. There is a question for this module about why the calculation of `qnum` will get us the correct answer."
      ]
    },
    {
      "cell_type": "markdown",
      "metadata": {
        "id": "uRfhw1UWs-vz"
      },
      "source": [
        "## <font color=\"red\">Question 1</font>\n",
        "\n",
        "In the `search_pqtree` function, we have a line of code like this:\n",
        "\n",
        "`child = [q.sw, q.se, q.nw, q.ne][qnum]`\n",
        "\n",
        "where variable `qnum` is supposed to indicate which quadrant the search should go the next. Explain why the items in list must be listed in the order of `[q.sw, q.se, q.nw, q.ne]`. In order to correctly answer this question, please explain all the values `qnum` can be possibly assigned to.\n",
        "\n",
        "\n",
        "\n"
      ]
    },
    {
      "cell_type": "markdown",
      "metadata": {
        "id": "e9ou9m10s-v0"
      },
      "source": [
        "```python\n",
        "# TODO\n",
        "#\n",
        "#    Double click on this cell and write your answer below.\n",
        "# The reason that the items must be listed in the order [q.sw, q.se, q.nw, q.ne] is because qnum will decide the position from the list that child will be\n",
        "# set to. For example, if child is to go to the SW region, then qnum will be\n",
        "# calculated to be 0 so child will be set to q.sw because\n",
        "# [q.sw, q.se, q.nw, q.ne][qnum] = q.sw.\n",
        "```\n"
      ]
    },
    {
      "cell_type": "markdown",
      "metadata": {
        "id": "C0L4noqHs-v0"
      },
      "source": [
        "---\n",
        "\n",
        "The function that inserts point `p` into a point quadtree `q` is listed below:\n",
        "\n",
        "```python\n",
        "def insert_pqtree(q, p):\n",
        "    n = search_pqtree(q, p, False)\n",
        "    node = PQuadTreeNode(point=p)\n",
        "    if p.x < n.point.x and p.y < n.point.y:\n",
        "        n.sw = node\n",
        "    elif p.x < n.point.x and p.y >= n.point.y:\n",
        "        n.nw = node\n",
        "    elif p.x >= n.point.x and p.y < n.point.y:\n",
        "        n.se = node\n",
        "    else:\n",
        "        n.ne = node\n",
        "```\n",
        "\n",
        "Again, as we did in the binary tree and k-D tree, we use the root node as a proxy to the entire tree because we always start from the root to use the tree.\n",
        "\n",
        "And finally we can write a function that returns a point quadtree given a list of points in `data`:\n",
        "\n",
        "```python\n",
        "def pointquadtree(data):\n",
        "    root = PQuadTreeNode(point = data[0])\n",
        "    for p in data[1:]:\n",
        "        insert_pqtree(root, p)\n",
        "    return root\n",
        "```\n",
        "\n",
        "All the code listed above is stored at github in a file called [**pointquadtree1.py**](https://github.com/gisalgs/indexing/blob/master/pointquadtree1.py). Download it to the **indexing** folder and then we can test it using the following examples, or clone the"
      ]
    },
    {
      "cell_type": "code",
      "execution_count": 2,
      "metadata": {
        "id": "D5U8sZScs-v0",
        "outputId": "b9aa66a3-2ffa-417f-e62f-97ceb6a65c6c",
        "colab": {
          "base_uri": "https://localhost:8080/"
        }
      },
      "outputs": [
        {
          "output_type": "stream",
          "name": "stdout",
          "text": [
            "Cloning into 'indexing'...\n",
            "remote: Enumerating objects: 177, done.\u001b[K\n",
            "remote: Counting objects: 100% (7/7), done.\u001b[K\n",
            "remote: Compressing objects: 100% (7/7), done.\u001b[K\n",
            "remote: Total 177 (delta 1), reused 0 (delta 0), pack-reused 170 (from 1)\u001b[K\n",
            "Receiving objects: 100% (177/177), 58.96 KiB | 9.83 MiB/s, done.\n",
            "Resolving deltas: 100% (93/93), done.\n",
            "Cloning into 'geom'...\n",
            "remote: Enumerating objects: 372, done.\u001b[K\n",
            "remote: Counting objects: 100% (58/58), done.\u001b[K\n",
            "remote: Compressing objects: 100% (57/57), done.\u001b[K\n",
            "remote: Total 372 (delta 26), reused 5 (delta 1), pack-reused 314 (from 1)\u001b[K\n",
            "Receiving objects: 100% (372/372), 94.60 KiB | 13.51 MiB/s, done.\n",
            "Resolving deltas: 100% (203/203), done.\n"
          ]
        }
      ],
      "source": [
        "# This is only needed if the github repo hasn't been cloned\n",
        "!git clone https://github.com/gisalgs/indexing.git\n",
        "!git clone https://github.com/gisalgs/geom.git"
      ]
    },
    {
      "cell_type": "code",
      "execution_count": 3,
      "metadata": {
        "id": "3KJA4L-ss-v1",
        "outputId": "3b5e8d7b-1543-4e7a-dbee-0d38e916014f",
        "colab": {
          "base_uri": "https://localhost:8080/"
        }
      },
      "outputs": [
        {
          "output_type": "stream",
          "name": "stdout",
          "text": [
            "[(2, 2), (0, 5), (8, 0), (9, 8), (7, 14), (13, 12), (14, 13)]\n"
          ]
        }
      ],
      "source": [
        "from geom.point import *\n",
        "from indexing.pointquadtree1 import *\n",
        "\n",
        "data1 = [ (2,2), (0,5), (8,0), (9,8), (7,14), (13,12), (14,13) ]\n",
        "points = [Point(d[0], d[1]) for d in data1]\n",
        "q = pointquadtree(points)\n",
        "print([search_pqtree(q, p) for p in points])"
      ]
    },
    {
      "cell_type": "markdown",
      "metadata": {
        "id": "bWoNwM1Ds-v2"
      },
      "source": [
        "The function `pointquadtree` does not handle duplicated points in the input. The following is a test of this problem where an error will be thrown:"
      ]
    },
    {
      "cell_type": "code",
      "execution_count": 4,
      "metadata": {
        "id": "LHv8NZvfs-v2",
        "outputId": "cd31d121-8379-4f03-ccb6-3b6ae11bd6ef",
        "colab": {
          "base_uri": "https://localhost:8080/",
          "height": 339
        }
      },
      "outputs": [
        {
          "output_type": "error",
          "ename": "AttributeError",
          "evalue": "'NoneType' object has no attribute 'point'",
          "traceback": [
            "\u001b[0;31m---------------------------------------------------------------------------\u001b[0m",
            "\u001b[0;31mAttributeError\u001b[0m                            Traceback (most recent call last)",
            "\u001b[0;32m<ipython-input-4-678203a620ae>\u001b[0m in \u001b[0;36m<cell line: 3>\u001b[0;34m()\u001b[0m\n\u001b[1;32m      1\u001b[0m \u001b[0mdata2\u001b[0m \u001b[0;34m=\u001b[0m \u001b[0;34m[\u001b[0m \u001b[0;34m(\u001b[0m\u001b[0;36m2\u001b[0m\u001b[0;34m,\u001b[0m\u001b[0;36m2\u001b[0m\u001b[0;34m)\u001b[0m\u001b[0;34m,\u001b[0m \u001b[0;34m(\u001b[0m\u001b[0;36m0\u001b[0m\u001b[0;34m,\u001b[0m\u001b[0;36m5\u001b[0m\u001b[0;34m)\u001b[0m\u001b[0;34m,\u001b[0m \u001b[0;34m(\u001b[0m\u001b[0;36m8\u001b[0m\u001b[0;34m,\u001b[0m\u001b[0;36m0\u001b[0m\u001b[0;34m)\u001b[0m\u001b[0;34m,\u001b[0m \u001b[0;34m(\u001b[0m\u001b[0;36m9\u001b[0m\u001b[0;34m,\u001b[0m\u001b[0;36m8\u001b[0m\u001b[0;34m)\u001b[0m\u001b[0;34m,\u001b[0m \u001b[0;34m(\u001b[0m\u001b[0;36m7\u001b[0m\u001b[0;34m,\u001b[0m\u001b[0;36m14\u001b[0m\u001b[0;34m)\u001b[0m\u001b[0;34m,\u001b[0m \u001b[0;34m(\u001b[0m\u001b[0;36m13\u001b[0m\u001b[0;34m,\u001b[0m\u001b[0;36m12\u001b[0m\u001b[0;34m)\u001b[0m\u001b[0;34m,\u001b[0m \u001b[0;34m(\u001b[0m\u001b[0;36m14\u001b[0m\u001b[0;34m,\u001b[0m\u001b[0;36m13\u001b[0m\u001b[0;34m)\u001b[0m\u001b[0;34m,\u001b[0m \u001b[0;34m(\u001b[0m\u001b[0;36m0\u001b[0m\u001b[0;34m,\u001b[0m\u001b[0;36m5\u001b[0m\u001b[0;34m)\u001b[0m \u001b[0;34m]\u001b[0m\u001b[0;34m\u001b[0m\u001b[0;34m\u001b[0m\u001b[0m\n\u001b[1;32m      2\u001b[0m \u001b[0mpoints2\u001b[0m \u001b[0;34m=\u001b[0m \u001b[0;34m[\u001b[0m\u001b[0mPoint\u001b[0m\u001b[0;34m(\u001b[0m\u001b[0md\u001b[0m\u001b[0;34m[\u001b[0m\u001b[0;36m0\u001b[0m\u001b[0;34m]\u001b[0m\u001b[0;34m,\u001b[0m \u001b[0md\u001b[0m\u001b[0;34m[\u001b[0m\u001b[0;36m1\u001b[0m\u001b[0;34m]\u001b[0m\u001b[0;34m)\u001b[0m \u001b[0;32mfor\u001b[0m \u001b[0md\u001b[0m \u001b[0;32min\u001b[0m \u001b[0mdata2\u001b[0m\u001b[0;34m]\u001b[0m\u001b[0;34m\u001b[0m\u001b[0;34m\u001b[0m\u001b[0m\n\u001b[0;32m----> 3\u001b[0;31m \u001b[0mq\u001b[0m \u001b[0;34m=\u001b[0m \u001b[0mpointquadtree\u001b[0m\u001b[0;34m(\u001b[0m\u001b[0mpoints2\u001b[0m\u001b[0;34m)\u001b[0m\u001b[0;34m\u001b[0m\u001b[0;34m\u001b[0m\u001b[0m\n\u001b[0m\u001b[1;32m      4\u001b[0m \u001b[0mprint\u001b[0m\u001b[0;34m(\u001b[0m\u001b[0;34m[\u001b[0m\u001b[0msearch_pqtree\u001b[0m\u001b[0;34m(\u001b[0m\u001b[0mq\u001b[0m\u001b[0;34m,\u001b[0m \u001b[0mp\u001b[0m\u001b[0;34m)\u001b[0m \u001b[0;32mfor\u001b[0m \u001b[0mp\u001b[0m \u001b[0;32min\u001b[0m \u001b[0mpoints\u001b[0m\u001b[0;34m]\u001b[0m\u001b[0;34m)\u001b[0m\u001b[0;34m\u001b[0m\u001b[0;34m\u001b[0m\u001b[0m\n",
            "\u001b[0;32m/content/indexing/pointquadtree1.py\u001b[0m in \u001b[0;36mpointquadtree\u001b[0;34m(data)\u001b[0m\n\u001b[1;32m     76\u001b[0m     \u001b[0mroot\u001b[0m \u001b[0;34m=\u001b[0m \u001b[0mPQuadTreeNode\u001b[0m\u001b[0;34m(\u001b[0m\u001b[0mpoint\u001b[0m \u001b[0;34m=\u001b[0m \u001b[0mdata\u001b[0m\u001b[0;34m[\u001b[0m\u001b[0;36m0\u001b[0m\u001b[0;34m]\u001b[0m\u001b[0;34m)\u001b[0m\u001b[0;34m\u001b[0m\u001b[0;34m\u001b[0m\u001b[0m\n\u001b[1;32m     77\u001b[0m     \u001b[0;32mfor\u001b[0m \u001b[0mp\u001b[0m \u001b[0;32min\u001b[0m \u001b[0mdata\u001b[0m\u001b[0;34m[\u001b[0m\u001b[0;36m1\u001b[0m\u001b[0;34m:\u001b[0m\u001b[0;34m]\u001b[0m\u001b[0;34m:\u001b[0m\u001b[0;34m\u001b[0m\u001b[0;34m\u001b[0m\u001b[0m\n\u001b[0;32m---> 78\u001b[0;31m         \u001b[0minsert_pqtree\u001b[0m\u001b[0;34m(\u001b[0m\u001b[0mroot\u001b[0m\u001b[0;34m,\u001b[0m \u001b[0mp\u001b[0m\u001b[0;34m)\u001b[0m\u001b[0;34m\u001b[0m\u001b[0;34m\u001b[0m\u001b[0m\n\u001b[0m\u001b[1;32m     79\u001b[0m     \u001b[0;32mreturn\u001b[0m \u001b[0mroot\u001b[0m\u001b[0;34m\u001b[0m\u001b[0;34m\u001b[0m\u001b[0m\n",
            "\u001b[0;32m/content/indexing/pointquadtree1.py\u001b[0m in \u001b[0;36minsert_pqtree\u001b[0;34m(q, p)\u001b[0m\n\u001b[1;32m     64\u001b[0m     \u001b[0mn\u001b[0m \u001b[0;34m=\u001b[0m \u001b[0msearch_pqtree\u001b[0m\u001b[0;34m(\u001b[0m\u001b[0mq\u001b[0m\u001b[0;34m,\u001b[0m \u001b[0mp\u001b[0m\u001b[0;34m,\u001b[0m \u001b[0;32mFalse\u001b[0m\u001b[0;34m)\u001b[0m\u001b[0;34m\u001b[0m\u001b[0;34m\u001b[0m\u001b[0m\n\u001b[1;32m     65\u001b[0m     \u001b[0mnode\u001b[0m \u001b[0;34m=\u001b[0m \u001b[0mPQuadTreeNode\u001b[0m\u001b[0;34m(\u001b[0m\u001b[0mpoint\u001b[0m\u001b[0;34m=\u001b[0m\u001b[0mp\u001b[0m\u001b[0;34m)\u001b[0m\u001b[0;34m\u001b[0m\u001b[0;34m\u001b[0m\u001b[0m\n\u001b[0;32m---> 66\u001b[0;31m     \u001b[0;32mif\u001b[0m \u001b[0mp\u001b[0m\u001b[0;34m.\u001b[0m\u001b[0mx\u001b[0m \u001b[0;34m<\u001b[0m \u001b[0mn\u001b[0m\u001b[0;34m.\u001b[0m\u001b[0mpoint\u001b[0m\u001b[0;34m.\u001b[0m\u001b[0mx\u001b[0m \u001b[0;32mand\u001b[0m \u001b[0mp\u001b[0m\u001b[0;34m.\u001b[0m\u001b[0my\u001b[0m \u001b[0;34m<\u001b[0m \u001b[0mn\u001b[0m\u001b[0;34m.\u001b[0m\u001b[0mpoint\u001b[0m\u001b[0;34m.\u001b[0m\u001b[0my\u001b[0m\u001b[0;34m:\u001b[0m\u001b[0;34m\u001b[0m\u001b[0;34m\u001b[0m\u001b[0m\n\u001b[0m\u001b[1;32m     67\u001b[0m         \u001b[0mn\u001b[0m\u001b[0;34m.\u001b[0m\u001b[0msw\u001b[0m \u001b[0;34m=\u001b[0m \u001b[0mnode\u001b[0m\u001b[0;34m\u001b[0m\u001b[0;34m\u001b[0m\u001b[0m\n\u001b[1;32m     68\u001b[0m     \u001b[0;32melif\u001b[0m \u001b[0mp\u001b[0m\u001b[0;34m.\u001b[0m\u001b[0mx\u001b[0m \u001b[0;34m<\u001b[0m \u001b[0mn\u001b[0m\u001b[0;34m.\u001b[0m\u001b[0mpoint\u001b[0m\u001b[0;34m.\u001b[0m\u001b[0mx\u001b[0m \u001b[0;32mand\u001b[0m \u001b[0mp\u001b[0m\u001b[0;34m.\u001b[0m\u001b[0my\u001b[0m \u001b[0;34m>=\u001b[0m \u001b[0mn\u001b[0m\u001b[0;34m.\u001b[0m\u001b[0mpoint\u001b[0m\u001b[0;34m.\u001b[0m\u001b[0my\u001b[0m\u001b[0;34m:\u001b[0m\u001b[0;34m\u001b[0m\u001b[0;34m\u001b[0m\u001b[0m\n",
            "\u001b[0;31mAttributeError\u001b[0m: 'NoneType' object has no attribute 'point'"
          ]
        }
      ],
      "source": [
        "data2 = [ (2,2), (0,5), (8,0), (9,8), (7,14), (13,12), (14,13), (0,5) ]\n",
        "points2 = [Point(d[0], d[1]) for d in data2]\n",
        "q = pointquadtree(points2)\n",
        "print([search_pqtree(q, p) for p in points])"
      ]
    },
    {
      "cell_type": "markdown",
      "metadata": {
        "id": "VRMZf4gks-v2"
      },
      "source": [
        "## <font color=\"red\">Question 2</font>\n",
        "\n",
        "As we can see from the above, the `pointquadtree` function doesn't work when the input list contains duplicated points. What can we do to make sure the function can finish without being interrupted? One way to handle this is to just skip any points that have already been included in the tree. The code for functions `insert_pqtree` and `pointquadtree` is already copied below, along with the code for test. You can change either of the two functions to answer this question."
      ]
    },
    {
      "cell_type": "code",
      "execution_count": 5,
      "metadata": {
        "id": "g00faCMEs-v2",
        "outputId": "19d85f00-0d8f-4fab-9c75-8d2c9ee83303",
        "colab": {
          "base_uri": "https://localhost:8080/"
        }
      },
      "outputs": [
        {
          "output_type": "stream",
          "name": "stdout",
          "text": [
            "[(2, 2), (0, 5), (8, 0), (9, 8), (7, 14), (13, 12), (14, 13)]\n"
          ]
        }
      ],
      "source": [
        "# TODO\n",
        "#\n",
        "#    Change either function below so this code cell will not yield an exception.\n",
        "\n",
        "def insert_pqtree(q, p):\n",
        "    n = search_pqtree(q, p, False)\n",
        "    if not n:\n",
        "      return\n",
        "    node = PQuadTreeNode(point=p)\n",
        "    if p.x < n.point.x and p.y < n.point.y:\n",
        "        n.sw = node\n",
        "    elif p.x < n.point.x and p.y >= n.point.y:\n",
        "        n.nw = node\n",
        "    elif p.x >= n.point.x and p.y < n.point.y:\n",
        "        n.se = node\n",
        "    else:\n",
        "        n.ne = node\n",
        "\n",
        "def pointquadtree(data):\n",
        "    root = PQuadTreeNode(point = data[0])\n",
        "    for p in data[1:]:\n",
        "        insert_pqtree(root, p)\n",
        "    return root\n",
        "\n",
        "data2 = [ (2,2), (0,5), (8,0), (9,8), (7,14), (13,12), (14,13), (0,5) ]\n",
        "points2 = [Point(d[0], d[1]) for d in data2]\n",
        "q = pointquadtree(points2)\n",
        "print([search_pqtree(q, p) for p in points])"
      ]
    },
    {
      "cell_type": "markdown",
      "metadata": {
        "id": "luRScueJs-v3"
      },
      "source": [
        "## Circular range querying point quadtrees\n",
        "\n",
        "The circular range query using the point quadtree follows the same logic as the k-D tree. The only difference here is that we have four subtrees to consider instead of two.\n",
        "\n",
        "```python\n",
        "def range_query(t, p, r):\n",
        "    def rquery(t, p, r, found):\n",
        "        if t is None:\n",
        "            return\n",
        "        if p.x-r > t.point.x :\n",
        "            rquery(t.ne, p, r, found)  # right points only\n",
        "            rquery(t.se, p, r, found)\n",
        "            return\n",
        "        if p.y-r > t.point.y:\n",
        "            rquery(t.ne, p, r, found)  # above points only\n",
        "            rquery(t.nw, p, r, found)\n",
        "            return\n",
        "        if p.x+r < t.point.x:\n",
        "            rquery(t.nw, p, r, found)  # left points only\n",
        "            rquery(t.sw, p, r, found)\n",
        "            return\n",
        "        if p.y+r < t.point.y:\n",
        "            rquery(t.se, p, r, found)  # below points only\n",
        "            rquery(t.sw, p, r, found)\n",
        "            return\n",
        "        if p.distance(t.point) <= r:\n",
        "            found.append(t.point)\n",
        "        rquery(t.nw, p, r, found)\n",
        "        rquery(t.ne, p, r, found)\n",
        "        rquery(t.se, p, r, found)\n",
        "        rquery(t.sw, p, r, found)\n",
        "        return\n",
        "    found = []\n",
        "    if t is not None:\n",
        "        rquery(t, p, r, found)\n",
        "    return found\n",
        "```\n",
        "\n",
        "It should be noted that the above circular range query code can be improved so that we can identify cases when only one quadrant will be checked instead of always two currently implemented.\n",
        "\n",
        "The code is available at github in a file called [**pointquadtree2.py**](https://github.com/gisalgs/indexing/blob/master/pointquadtree2.py). To install on a local computer, the module file must be put in the `indexing` folder after downloading. We use this function to test on the 7 data points as shown in the figure at the beginning of this tutorial.\n"
      ]
    },
    {
      "cell_type": "code",
      "execution_count": 9,
      "metadata": {
        "id": "662DHLOls-v3",
        "outputId": "4ea2dc0a-7424-4083-ce1b-5aa6fbdc131a",
        "colab": {
          "base_uri": "https://localhost:8080/"
        }
      },
      "outputs": [
        {
          "output_type": "stream",
          "name": "stdout",
          "text": [
            "[[2, 2], [0, 5], [9, 8]]\n"
          ]
        }
      ],
      "source": [
        "from indexing.pointquadtree2 import *\n",
        "\n",
        "data1 = [ (2,2), (0,5), (8,0), (9,8), (7,14), (13,12), (14,13) ]\n",
        "points = [Point(d[0], d[1]) for d in data1]\n",
        "q = pointquadtree(points)\n",
        "p = Point(5, 5)\n",
        "r = 5\n",
        "found = range_query(q, p, r)\n",
        "print(found)"
      ]
    },
    {
      "cell_type": "markdown",
      "metadata": {
        "id": "qY5qBDiys-v3"
      },
      "source": [
        "Let's quickly draw the above example and see if the results make sense. We first define a few drawing functions that uses matplotlib."
      ]
    },
    {
      "cell_type": "code",
      "execution_count": 10,
      "metadata": {
        "id": "4m84JVlys-v3"
      },
      "outputs": [],
      "source": [
        "%matplotlib inline\n",
        "import matplotlib.pyplot as plt\n",
        "\n",
        "def draw_points(pts, color, marker, size, alpha=0.7):\n",
        "    axis = plt.scatter([p.x for p in pts], [p.y for p in pts],\n",
        "                       marker=marker, color=color, s=size, alpha=alpha)\n",
        "    return axis\n",
        "\n",
        "def draw_circle(x, y, r):\n",
        "    circle = plt.Circle((x, y), radius=r, color='r', fill=False)\n",
        "    plt.gca().add_patch(circle)\n",
        "\n",
        "def draw_lines(linesxy, color):\n",
        "    frame = plt.gca()\n",
        "    l = plt.Line2D(linesxy[0], linesxy[1], color=color)\n",
        "    frame.add_line(l)"
      ]
    },
    {
      "cell_type": "code",
      "execution_count": 11,
      "metadata": {
        "id": "a4e4-6y6s-v3",
        "outputId": "1491899f-d267-4a87-e75b-b42b204acadb",
        "colab": {
          "base_uri": "https://localhost:8080/",
          "height": 430
        }
      },
      "outputs": [
        {
          "output_type": "display_data",
          "data": {
            "text/plain": [
              "<Figure size 640x480 with 1 Axes>"
            ],
            "image/png": "[encoded data removed]"
          },
          "metadata": {}
        }
      ],
      "source": [
        "draw_points(points, 'blue', 'x', 30)\n",
        "draw_points(found, 'red', 'o', 30)\n",
        "draw_points([p], 'green', '+', 30)\n",
        "draw_circle(p.x, p.y, 5)\n",
        "plt.gca().set_aspect(1)\n",
        "plt.show()"
      ]
    },
    {
      "cell_type": "markdown",
      "metadata": {
        "id": "MYDZXXQLs-v3"
      },
      "source": [
        "## <font color=\"red\">Question 3</font>\n",
        "\n",
        "A goal of any range query is to minimize the times when a point has to be tested if it is in the range or not. In circular range query, it is more critical to avoid unnecessary testing of a point in a circle by calculating the distance between the point and circle center, because calculating distance does take more time than other operations. In our first example of using function `range_query` on a point quadtree based on points `[(2,2), (0,5), (8,0), (9,8), (7,14), (13,12), (14,13)]` with a target point at `(5,5)` and a radius of 5, are there any points in the tree that are not tested by the line of `p.distance(t.point) <= r`? If so, what are those points and why they are not tested? To help answer the question, you can make some slight changes to the following code so the points being tested are printed out."
      ]
    },
    {
      "cell_type": "code",
      "execution_count": 17,
      "metadata": {
        "id": "dtHJBZzYs-v3",
        "outputId": "6a9dc079-6011-4d62-f5fe-e7438fe45232",
        "colab": {
          "base_uri": "https://localhost:8080/"
        }
      },
      "outputs": [
        {
          "output_type": "stream",
          "name": "stdout",
          "text": [
            "(2, 2)\n",
            "(0, 5)\n",
            "(9, 8)\n",
            "4: (7, 14)\n",
            "3: (13, 12)\n",
            "Found: [[2, 2], [0, 5], [9, 8]]\n"
          ]
        }
      ],
      "source": [
        "# TODO\n",
        "#\n",
        "#    (slightly) change the following code to answer the question.\n",
        "\n",
        "def range_query(t, p, r):\n",
        "    def rquery(t, p, r, found):\n",
        "        if t is None:\n",
        "            return\n",
        "        if p.x-r > t.point.x :\n",
        "            print('1:', t.point)\n",
        "            rquery(t.ne, p, r, found)  # right points only\n",
        "            rquery(t.se, p, r, found)\n",
        "            return\n",
        "        if p.y-r > t.point.y:\n",
        "            print('2:', t.point)\n",
        "            rquery(t.ne, p, r, found)  # above points only\n",
        "            rquery(t.nw, p, r, found)\n",
        "            return\n",
        "        if p.x+r < t.point.x:\n",
        "            print('3:', t.point)\n",
        "            rquery(t.nw, p, r, found)  # left points only\n",
        "            rquery(t.sw, p, r, found)\n",
        "            return\n",
        "        if p.y+r < t.point.y:\n",
        "            print('4:', t.point)\n",
        "            rquery(t.se, p, r, found)  # below points only\n",
        "            rquery(t.sw, p, r, found)\n",
        "            return\n",
        "        if p.distance(t.point) <= r:\n",
        "            print(t.point)\n",
        "            found.append(t.point)\n",
        "        rquery(t.nw, p, r, found)\n",
        "        rquery(t.ne, p, r, found)\n",
        "        rquery(t.se, p, r, found)\n",
        "        rquery(t.sw, p, r, found)\n",
        "        return\n",
        "    found = []\n",
        "    if t is not None:\n",
        "        rquery(t, p, r, found)\n",
        "    return found\n",
        "\n",
        "data1 = [ (2,2), (0,5), (8,0), (9,8), (7,14), (13,12), (14,13) ]\n",
        "points = [Point(d[0], d[1]) for d in data1]\n",
        "q = pointquadtree(points)\n",
        "p = Point(5, 5)\n",
        "r = 5\n",
        "found = range_query(q, p, r)\n",
        "print('Found:', found)"
      ]
    },
    {
      "cell_type": "code",
      "execution_count": null,
      "metadata": {
        "id": "3nmIBGk0s-v4"
      },
      "outputs": [],
      "source": [
        "# TODO:\n",
        "#   What are the points that are not tested and why they are not tested? Put yrou answer here.\n",
        "\n",
        "#The points that are not tested are (8,0), (7,14), (13,12), (14,13). The reason these points are not tested is because for (7,14), (13,12) the fourth and third boundary checks respectively are True,\n",
        "#so only child nodes of those points are checked and the SE branch where (8, 0) is was never checked and the branch from (13, 12) where (14, 13) is stored is also never checked. So the points that\n",
        "#do not reach the distance function either trigger earlier statements or they are never checked because the boundary checks rule them out as options for the range query.\n"
      ]
    },
    {
      "cell_type": "markdown",
      "metadata": {
        "id": "DnoXG-tDs-v4"
      },
      "source": [
        "---\n",
        "\n",
        "Finally, we test a potentially tricky case: the input target point is closer to points in quads that do not contain the target point."
      ]
    },
    {
      "cell_type": "code",
      "execution_count": 18,
      "metadata": {
        "id": "LiJhP5Jis-v4",
        "outputId": "a9b39104-9e03-46b4-da9a-74e47ad31284",
        "colab": {
          "base_uri": "https://localhost:8080/"
        }
      },
      "outputs": [
        {
          "output_type": "stream",
          "name": "stdout",
          "text": [
            "(5, 5)\n",
            "(4.5, 6)\n",
            "(6, 4.5)\n",
            "[[5, 5], [4.5, 6], [6, 4.5]]\n",
            "[2.692582403567252, 2.692582403567252, 2.8284271247461903, 4.242640687119285, 4.242640687119285]\n"
          ]
        }
      ],
      "source": [
        "points2 = [Point(p[0], p[1]) for p in [[5,5], [10,10], [4,4], [4.5,6], [6,4.5] ]]\n",
        "qt = pointquadtree(points2)\n",
        "p = Point(7, 7)\n",
        "r = 3\n",
        "found2 = range_query(qt, p, r)\n",
        "print(found2)\n",
        "print(sorted([p.distance(x) for x in points2]))"
      ]
    },
    {
      "cell_type": "markdown",
      "metadata": {
        "id": "XiVe3qyos-v4"
      },
      "source": [
        "As expected, the above test does not have the farthest point (10,10) included, even the quad that contains point (10, 10) also contains the target point (7, 7). Note the root is (5,5)."
      ]
    },
    {
      "cell_type": "code",
      "execution_count": 19,
      "metadata": {
        "id": "dUPToTXSs-v4",
        "outputId": "060cd94e-8d05-418a-d81c-ed4d0aa96415",
        "colab": {
          "base_uri": "https://localhost:8080/",
          "height": 430
        }
      },
      "outputs": [
        {
          "output_type": "display_data",
          "data": {
            "text/plain": [
              "<Figure size 640x480 with 1 Axes>"
            ],
            "image/png": "[encoded data removed]"
          },
          "metadata": {}
        }
      ],
      "source": [
        "draw_points(points2, 'blue', 'x', 30)\n",
        "draw_points(found2, 'red', 'o', 30)\n",
        "draw_points([p], 'green', '+', 30)\n",
        "draw_lines([[5,5], [0,11]], 'lightgrey')\n",
        "draw_lines([[0,11], [5,5]], 'lightgrey')\n",
        "draw_circle(p.x, p.y, r)\n",
        "plt.axis('scaled')\n",
        "ax = plt.gca()\n",
        "ax.set_xlim([0, 11])\n",
        "ax.set_ylim([0, 11])\n",
        "ax.set_aspect(1)\n",
        "plt.show()"
      ]
    }
  ],
  "metadata": {
    "kernelspec": {
      "display_name": "Python 3 (ipykernel)",
      "language": "python",
      "name": "python3"
    },
    "language_info": {
      "codemirror_mode": {
        "name": "ipython",
        "version": 3
      },
      "file_extension": ".py",
      "mimetype": "text/x-python",
      "name": "python",
      "nbconvert_exporter": "python",
      "pygments_lexer": "ipython3",
      "version": "3.8.10"
    },
    "colab": {
      "provenance": []
    }
  },
  "nbformat": 4,
  "nbformat_minor": 0
}